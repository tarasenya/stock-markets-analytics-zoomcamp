{
 "cells": [
  {
   "cell_type": "markdown",
   "metadata": {},
   "source": [
    "## Module 1 Homework\n",
    "\n",
    "In this homework, we're going to download finance data from various sources and make simple calculations/analysis."
   ]
  },
  {
   "cell_type": "markdown",
   "metadata": {},
   "source": [
    "### Question 1: [Macro] Average growth of GDP in 2023\n",
    "\n",
    "**What is the average growth (in %) of GDP in 2023?**\n",
    "\n",
    "* Download the timeseries Real Gross Domestic Product (GDPC1) from FRED (https://fred.stlouisfed.org/series/GDPC1). \n",
    "* Calculate year-over-year (YoY) growth rate (that is, divide current value to one 4 quarters ago). \n",
    "* Find the average YoY growth in 2023 (average from 4 YoY numbers).\n",
    "* Round to 1 digit after the decimal point: e.g. if you get 5.66% growth => you should answer  5.7\n"
   ]
  },
  {
   "cell_type": "code",
   "execution_count": 40,
   "metadata": {},
   "outputs": [],
   "source": [
    "import numpy as np\n",
    "import pandas as pd\n",
    "\n",
    "import yfinance as yf\n",
    "import pandas_datareader as pdr\n",
    "\n",
    "import plotly.graph_objs as go\n",
    "import plotly.express as px\n",
    "\n",
    "import time\n",
    "from datetime import date, datetime"
   ]
  },
  {
   "cell_type": "code",
   "execution_count": 2,
   "metadata": {},
   "outputs": [
    {
     "name": "stdout",
     "output_type": "stream",
     "text": [
      "Year = 2024; month= 4; day=21\n",
      "Period for indexes: 1954-04-21 to 2024-04-21 \n"
     ]
    }
   ],
   "source": [
    "end = date.today()\n",
    "print(f'Year = {end.year}; month= {end.month}; day={end.day}')\n",
    "\n",
    "start = date(year=end.year-70, month=end.month, day=end.day)\n",
    "print(f'Period for indexes: {start} to {end} ')"
   ]
  },
  {
   "cell_type": "code",
   "execution_count": 3,
   "metadata": {},
   "outputs": [],
   "source": [
    "gdpc1 = pdr.DataReader(\"GDPC1\", \"fred\", start=start)\n"
   ]
  },
  {
   "cell_type": "code",
   "execution_count": 4,
   "metadata": {},
   "outputs": [
    {
     "data": {
      "text/html": [
       "<div>\n",
       "<style scoped>\n",
       "    .dataframe tbody tr th:only-of-type {\n",
       "        vertical-align: middle;\n",
       "    }\n",
       "\n",
       "    .dataframe tbody tr th {\n",
       "        vertical-align: top;\n",
       "    }\n",
       "\n",
       "    .dataframe thead th {\n",
       "        text-align: right;\n",
       "    }\n",
       "</style>\n",
       "<table border=\"1\" class=\"dataframe\">\n",
       "  <thead>\n",
       "    <tr style=\"text-align: right;\">\n",
       "      <th></th>\n",
       "      <th>GDPC1</th>\n",
       "      <th>gdpc1_us_yoy</th>\n",
       "    </tr>\n",
       "    <tr>\n",
       "      <th>DATE</th>\n",
       "      <th></th>\n",
       "      <th></th>\n",
       "    </tr>\n",
       "  </thead>\n",
       "  <tbody>\n",
       "    <tr>\n",
       "      <th>1954-07-01</th>\n",
       "      <td>2880.482</td>\n",
       "      <td>NaN</td>\n",
       "    </tr>\n",
       "    <tr>\n",
       "      <th>1954-10-01</th>\n",
       "      <td>2936.852</td>\n",
       "      <td>NaN</td>\n",
       "    </tr>\n",
       "    <tr>\n",
       "      <th>1955-01-01</th>\n",
       "      <td>3020.746</td>\n",
       "      <td>NaN</td>\n",
       "    </tr>\n",
       "    <tr>\n",
       "      <th>1955-04-01</th>\n",
       "      <td>3069.910</td>\n",
       "      <td>NaN</td>\n",
       "    </tr>\n",
       "    <tr>\n",
       "      <th>1955-07-01</th>\n",
       "      <td>3111.379</td>\n",
       "      <td>0.080159</td>\n",
       "    </tr>\n",
       "  </tbody>\n",
       "</table>\n",
       "</div>"
      ],
      "text/plain": [
       "               GDPC1  gdpc1_us_yoy\n",
       "DATE                              \n",
       "1954-07-01  2880.482           NaN\n",
       "1954-10-01  2936.852           NaN\n",
       "1955-01-01  3020.746           NaN\n",
       "1955-04-01  3069.910           NaN\n",
       "1955-07-01  3111.379      0.080159"
      ]
     },
     "execution_count": 4,
     "metadata": {},
     "output_type": "execute_result"
    }
   ],
   "source": [
    "gdpc1['gdpc1_us_yoy'] = gdpc1.GDPC1/gdpc1.GDPC1.shift(4)-1\n",
    "gdpc1.head()"
   ]
  },
  {
   "cell_type": "code",
   "execution_count": 5,
   "metadata": {},
   "outputs": [
    {
     "data": {
      "text/html": [
       "<div>\n",
       "<style scoped>\n",
       "    .dataframe tbody tr th:only-of-type {\n",
       "        vertical-align: middle;\n",
       "    }\n",
       "\n",
       "    .dataframe tbody tr th {\n",
       "        vertical-align: top;\n",
       "    }\n",
       "\n",
       "    .dataframe thead th {\n",
       "        text-align: right;\n",
       "    }\n",
       "</style>\n",
       "<table border=\"1\" class=\"dataframe\">\n",
       "  <thead>\n",
       "    <tr style=\"text-align: right;\">\n",
       "      <th></th>\n",
       "      <th>GDPC1</th>\n",
       "      <th>gdpc1_us_yoy</th>\n",
       "    </tr>\n",
       "    <tr>\n",
       "      <th>DATE</th>\n",
       "      <th></th>\n",
       "      <th></th>\n",
       "    </tr>\n",
       "  </thead>\n",
       "  <tbody>\n",
       "    <tr>\n",
       "      <th>2023-01-01</th>\n",
       "      <td>22112.329</td>\n",
       "      <td>0.017179</td>\n",
       "    </tr>\n",
       "    <tr>\n",
       "      <th>2023-04-01</th>\n",
       "      <td>22225.350</td>\n",
       "      <td>0.023825</td>\n",
       "    </tr>\n",
       "    <tr>\n",
       "      <th>2023-07-01</th>\n",
       "      <td>22490.692</td>\n",
       "      <td>0.029269</td>\n",
       "    </tr>\n",
       "    <tr>\n",
       "      <th>2023-10-01</th>\n",
       "      <td>22679.255</td>\n",
       "      <td>0.031345</td>\n",
       "    </tr>\n",
       "  </tbody>\n",
       "</table>\n",
       "</div>"
      ],
      "text/plain": [
       "                GDPC1  gdpc1_us_yoy\n",
       "DATE                               \n",
       "2023-01-01  22112.329      0.017179\n",
       "2023-04-01  22225.350      0.023825\n",
       "2023-07-01  22490.692      0.029269\n",
       "2023-10-01  22679.255      0.031345"
      ]
     },
     "execution_count": 5,
     "metadata": {},
     "output_type": "execute_result"
    }
   ],
   "source": [
    "start_2023 = date(year=2023, month=1, day=1)\n",
    "end_2023 = date(year=2024,month=1, day=1)\n",
    "gdpc1.loc[start_2023:end_2023]"
   ]
  },
  {
   "cell_type": "code",
   "execution_count": 6,
   "metadata": {},
   "outputs": [
    {
     "name": "stdout",
     "output_type": "stream",
     "text": [
      "2.5\n"
     ]
    }
   ],
   "source": [
    "print(f\"{round(gdpc1.loc[start_2023:end_2023]['gdpc1_us_yoy'].mean()*100, 1)}\")"
   ]
  },
  {
   "cell_type": "markdown",
   "metadata": {},
   "source": [
    "### Question 2. [Macro] Inverse \"Treasury Yield\"\n",
    "\n",
    "**Find the min value of (dgs10-dgs2) after since year 2000 (2000-01-01) and write it down as an answer, round to 1 digit after the decimal point.**\n",
    "\n",
    "\n",
    "* Download DGS2 and DGS10 interest rates series (https://fred.stlouisfed.org/series/DGS2,\n",
    " https://fred.stlouisfed.org/series/DGS10). \n",
    " * Join them together to one dataframe on date (you might need to read about pandas.DataFrame.join()), \n",
    " * Calculate the difference dgs10-dgs2 daily.\n",
    "\n",
    "(Additional: think about what does the \"inverted yield curve\" mean for the market and investors? do you see the same thing in your country/market of interest? Do you think it can be a good predictive feature for the models?)"
   ]
  },
  {
   "cell_type": "markdown",
   "metadata": {},
   "source": []
  },
  {
   "cell_type": "code",
   "execution_count": 7,
   "metadata": {},
   "outputs": [],
   "source": [
    "start = date(year=2000, day=1, month=1)\n",
    "dgs2 = pdr.DataReader(\"DGS2\", \"fred\", start=start)\n",
    "dgs10= pdr.DataReader(\"DGS10\", \"fred\", start=start)"
   ]
  },
  {
   "cell_type": "code",
   "execution_count": 8,
   "metadata": {},
   "outputs": [],
   "source": [
    "joined_dgs = dgs2.join(dgs10)"
   ]
  },
  {
   "cell_type": "code",
   "execution_count": 9,
   "metadata": {},
   "outputs": [],
   "source": [
    "joined_dgs['delta'] = joined_dgs.DGS10-joined_dgs.DGS2"
   ]
  },
  {
   "cell_type": "code",
   "execution_count": 10,
   "metadata": {},
   "outputs": [
    {
     "data": {
      "text/plain": [
       "-1.0800000000000005"
      ]
     },
     "execution_count": 10,
     "metadata": {},
     "output_type": "execute_result"
    }
   ],
   "source": [
    "joined_dgs['delta'].min()"
   ]
  },
  {
   "cell_type": "markdown",
   "metadata": {},
   "source": [
    "The minimum value is -1.1"
   ]
  },
  {
   "cell_type": "markdown",
   "metadata": {},
   "source": [
    "### Question 3. [Index] Which Index is better recently?\n",
    "\n",
    "**Compare S&P 500 and IPC Mexico indexes by the 5 year growth and write down the largest value as an answer (%)**\n",
    "\n",
    "* Download on Yahoo Finance two daily index prices for S&P 500 (^GSPC, https://finance.yahoo.com/quote/%5EGSPC/) and IPC Mexico (^MXX, https://finance.yahoo.com/quote/%5EMXX/). \n",
    "* Compare 5Y growth for both (between 2019-04-09 and 2024-04-09). \n",
    "* Select the higher growing index and write down the growth in % (closest integer %). \n",
    "* E.g. if ratio end/start was 2.0925 (or growth of 109.25%), you need to write down 109 as your answer.\n",
    "\n",
    "(Additional: think of other indexes and try to download stats and compare the growth? Do create 10Y and 20Y growth stats. What is an average yearly growth rate (CAGR) for each of the indexes you select?)"
   ]
  },
  {
   "cell_type": "code",
   "execution_count": 11,
   "metadata": {},
   "outputs": [
    {
     "name": "stderr",
     "output_type": "stream",
     "text": [
      "[*********************100%%**********************]  1 of 1 completed\n",
      "[*********************100%%**********************]  1 of 1 completed\n"
     ]
    }
   ],
   "source": [
    "start = date(year=2019, month=4, day=9)\n",
    "end = date(year=2024, month=4, day=10)\n",
    "end_1 = date(year=end.year, month=end.month, day=end.day-1)\n",
    "\n",
    "spc_index = yf.download(tickers = \"^GSPC\",\n",
    "                     period = \"max\",\n",
    "                     interval = \"1d\",\n",
    "                     start=start,\n",
    "                     end=end)\n",
    "\n",
    "mxx_index = yf.download(tickers = \"^MXX\",\n",
    "                     period = \"max\",\n",
    "                     interval = \"1d\",\n",
    "                     start=start,\n",
    "                     end=end)\n"
   ]
  },
  {
   "cell_type": "code",
   "execution_count": 12,
   "metadata": {},
   "outputs": [
    {
     "data": {
      "text/plain": [
       "1.2750624912566744"
      ]
     },
     "execution_count": 12,
     "metadata": {},
     "output_type": "execute_result"
    }
   ],
   "source": [
    "mxx_index.loc[str(end_1)]['Adj Close']/mxx_index.loc[str(start)]['Adj Close']"
   ]
  },
  {
   "cell_type": "code",
   "execution_count": 13,
   "metadata": {},
   "outputs": [
    {
     "data": {
      "text/plain": [
       "1.8101279426847174"
      ]
     },
     "execution_count": 13,
     "metadata": {},
     "output_type": "execute_result"
    }
   ],
   "source": [
    "growth_rate = spc_index.loc[str(end_1)]['Adj Close']/spc_index.loc[str(start)]['Adj Close']\n",
    "growth_rate"
   ]
  },
  {
   "cell_type": "code",
   "execution_count": 14,
   "metadata": {},
   "outputs": [
    {
     "name": "stdout",
     "output_type": "stream",
     "text": [
      "Larger growth rate is 81.0\n"
     ]
    }
   ],
   "source": [
    "print(f'Larger growth rate is {round((growth_rate-1)*100,1)}')"
   ]
  },
  {
   "cell_type": "markdown",
   "metadata": {},
   "source": [
    "### Question 4. [Stocks OHLCV] 52-weeks range ratio (2023) for the selected stocks\n",
    "\n",
    "\n",
    "**Find the largest range ratio [=(max-min)/max] of Adj.Close prices in 2023**\n",
    "\n",
    "\n",
    "* Download the 2023 daily OHLCV data on Yahoo Finance for top6 stocks on earnings (https://companiesmarketcap.com/most-profitable-companies/): 2222.SR,BRK-B, AAPL, MSFT, GOOG, JPM.\n",
    "\n",
    "* Here is the example data you should see in Pandas for \"2222.SR\": https://finance.yahoo.com/quote/2222.SR/history\n",
    "\n",
    "* Calculate maximum-minimim \"Adj.Close\" price for each stock and divide it by the maximum \"Adj.Close\" value.Round the result to two decimal places (e.g. 0.1575 will be 0.16)\n",
    "\n",
    "(Additional: why this may be important for your research?)\n"
   ]
  },
  {
   "cell_type": "code",
   "execution_count": 15,
   "metadata": {},
   "outputs": [
    {
     "name": "stderr",
     "output_type": "stream",
     "text": [
      "[*********************100%%**********************]  1 of 1 completed\n",
      "[*********************100%%**********************]  1 of 1 completed\n",
      "[*********************100%%**********************]  1 of 1 completed\n"
     ]
    },
    {
     "name": "stderr",
     "output_type": "stream",
     "text": [
      "[*********************100%%**********************]  1 of 1 completed\n",
      "[*********************100%%**********************]  1 of 1 completed\n",
      "[*********************100%%**********************]  1 of 1 completed\n"
     ]
    }
   ],
   "source": [
    "start = date(year=2023, month=1, day=1)\n",
    "end = date(year=2024, month=1, day=1)\n",
    "\n",
    "stocks = ['2222.SR','BRK-B', 'AAPL', 'MSFT', 'GOOG', 'JPM']\n",
    "\n",
    "stock_data  = {stock: yf.download(tickers = stock,\n",
    "            interval = \"1d\",\n",
    "            period = \"max\",\n",
    "            start=start,\n",
    "            end=end\n",
    "            )[\"Adj Close\"] for stock in stocks}\n"
   ]
  },
  {
   "cell_type": "code",
   "execution_count": 16,
   "metadata": {},
   "outputs": [],
   "source": [
    "\n",
    "def min_max_relation(arr: np.array) -> float:\n",
    "    return (arr.max()-arr.min())/arr.max()"
   ]
  },
  {
   "cell_type": "code",
   "execution_count": 17,
   "metadata": {},
   "outputs": [],
   "source": [
    "stock_data_min_max = {key: min_max_relation(value) for key, value in stock_data.items()}"
   ]
  },
  {
   "cell_type": "code",
   "execution_count": 18,
   "metadata": {},
   "outputs": [
    {
     "data": {
      "text/plain": [
       "{'2222.SR': 0.21393065379760481,\n",
       " 'BRK-B': 0.20775750091289963,\n",
       " 'AAPL': 0.37244419224463476,\n",
       " 'MSFT': 0.4242066914981641,\n",
       " 'GOOG': 0.3924520921912013,\n",
       " 'JPM': 0.28249927707093897}"
      ]
     },
     "execution_count": 18,
     "metadata": {},
     "output_type": "execute_result"
    }
   ],
   "source": [
    "stock_data_min_max"
   ]
  },
  {
   "cell_type": "code",
   "execution_count": 20,
   "metadata": {},
   "outputs": [],
   "source": [
    "stock_data_min_max = dict(sorted(stock_data_min_max.items(), key=lambda item: item[1]))"
   ]
  },
  {
   "cell_type": "code",
   "execution_count": 22,
   "metadata": {},
   "outputs": [
    {
     "name": "stdout",
     "output_type": "stream",
     "text": [
      " This is 0.42\n"
     ]
    }
   ],
   "source": [
    "print(f' This is {round(stock_data_min_max[\"MSFT\"], 2)}')"
   ]
  },
  {
   "cell_type": "markdown",
   "metadata": {},
   "source": [
    "Thos stocks with the \"large\" (max-min)/max ratio has the smalles price at the beginning and \"large\" relative growth."
   ]
  },
  {
   "cell_type": "markdown",
   "metadata": {},
   "source": [
    "### Question 5. [Stocks] Dividend Yield\n",
    "**Find the largest dividend yield for the same set of stocks**\n",
    "\n",
    "Use the same list of companies (2222.SR,BRK-B, AAPL, MSFT, GOOG, JPM) and download all dividends paid in 2023.\n",
    "You can use `get_actions()` method or `.dividends` field in yfinance library (https://github.com/ranaroussi/yfinance?tab=readme-ov-file#quick-start)\n",
    "\n",
    "Sum up all dividends paid in 2023 per company and divide each value by the closing price (Adj.Close) at the last trading day of the year.\n",
    "\n",
    "Find the maximm value in % and round to 1 digit after the decimal point. (E.g., if you obtained $1.25 dividends paid and the end year stock price is $100, the dividend yield is 1.25% -- and your answer should be equal to 1.3)"
   ]
  },
  {
   "cell_type": "code",
   "execution_count": 55,
   "metadata": {},
   "outputs": [
    {
     "data": {
      "text/plain": [
       "{'2222.SR': Date\n",
       " 2020-03-19 00:00:00+03:00    0.060992\n",
       " 2020-05-31 00:00:00+03:00    0.290744\n",
       " 2020-08-12 00:00:00+03:00    0.290744\n",
       " 2020-11-10 00:00:00+03:00    0.290744\n",
       " 2021-03-23 00:00:00+03:00    0.290744\n",
       " 2021-05-17 00:00:00+03:00    0.290744\n",
       " 2021-08-16 00:00:00+03:00    0.290744\n",
       " 2021-11-07 00:00:00+03:00    0.290744\n",
       " 2022-05-24 00:00:00+03:00    0.290727\n",
       " 2022-08-22 00:00:00+03:00    0.290727\n",
       " 2022-11-09 00:00:00+03:00    0.290727\n",
       " 2023-03-15 00:00:00+03:00    0.302364\n",
       " 2023-05-17 00:00:00+03:00    0.302400\n",
       " 2023-09-11 00:00:00+03:00    0.153000\n",
       " 2023-11-15 00:00:00+03:00    0.153000\n",
       " 2024-03-14 00:00:00+03:00    0.167000\n",
       " Name: Dividends, dtype: float64,\n",
       " 'BRK-B': Series([], Name: Dividends, dtype: float64),\n",
       " 'AAPL': Date\n",
       " 1987-05-11 00:00:00-04:00    0.000536\n",
       " 1987-08-10 00:00:00-04:00    0.000536\n",
       " 1987-11-17 00:00:00-05:00    0.000714\n",
       " 1988-02-12 00:00:00-05:00    0.000714\n",
       " 1988-05-16 00:00:00-04:00    0.000714\n",
       "                                ...   \n",
       " 2023-02-10 00:00:00-05:00    0.230000\n",
       " 2023-05-12 00:00:00-04:00    0.240000\n",
       " 2023-08-11 00:00:00-04:00    0.240000\n",
       " 2023-11-10 00:00:00-05:00    0.240000\n",
       " 2024-02-09 00:00:00-05:00    0.240000\n",
       " Name: Dividends, Length: 82, dtype: float64,\n",
       " 'MSFT': Date\n",
       " 2003-02-19 00:00:00-05:00    0.08\n",
       " 2003-10-15 00:00:00-04:00    0.16\n",
       " 2004-08-23 00:00:00-04:00    0.08\n",
       " 2004-11-15 00:00:00-05:00    3.08\n",
       " 2005-02-15 00:00:00-05:00    0.08\n",
       "                              ... \n",
       " 2023-02-15 00:00:00-05:00    0.68\n",
       " 2023-05-17 00:00:00-04:00    0.68\n",
       " 2023-08-16 00:00:00-04:00    0.68\n",
       " 2023-11-15 00:00:00-05:00    0.75\n",
       " 2024-02-14 00:00:00-05:00    0.75\n",
       " Name: Dividends, Length: 81, dtype: float64,\n",
       " 'GOOG': Series([], Name: Dividends, dtype: float64),\n",
       " 'JPM': Date\n",
       " 1984-03-09 00:00:00-05:00    0.196667\n",
       " 1984-06-11 00:00:00-04:00    0.196667\n",
       " 1984-09-10 00:00:00-04:00    0.196667\n",
       " 1984-12-10 00:00:00-05:00    0.196667\n",
       " 1985-03-11 00:00:00-05:00    0.206667\n",
       "                                ...   \n",
       " 2023-04-05 00:00:00-04:00    1.000000\n",
       " 2023-07-05 00:00:00-04:00    1.000000\n",
       " 2023-10-05 00:00:00-04:00    1.050000\n",
       " 2024-01-04 00:00:00-05:00    1.050000\n",
       " 2024-04-04 00:00:00-04:00    1.150000\n",
       " Name: Dividends, Length: 162, dtype: float64}"
      ]
     },
     "execution_count": 55,
     "metadata": {},
     "output_type": "execute_result"
    }
   ],
   "source": [
    "dividends = { stock: yf.Ticker(stock).dividends for stock in stocks}\n",
    "dividends"
   ]
  },
  {
   "cell_type": "code",
   "execution_count": 65,
   "metadata": {},
   "outputs": [
    {
     "data": {
      "text/plain": [
       "Date\n",
       "1984-03-09 00:00:00-05:00    0.196667\n",
       "1984-06-11 00:00:00-04:00    0.196667\n",
       "1984-09-10 00:00:00-04:00    0.196667\n",
       "1984-12-10 00:00:00-05:00    0.196667\n",
       "1985-03-11 00:00:00-05:00    0.206667\n",
       "                               ...   \n",
       "2023-04-05 00:00:00-04:00    1.000000\n",
       "2023-07-05 00:00:00-04:00    1.000000\n",
       "2023-10-05 00:00:00-04:00    1.050000\n",
       "2024-01-04 00:00:00-05:00    1.050000\n",
       "2024-04-04 00:00:00-04:00    1.150000\n",
       "Name: Dividends, Length: 162, dtype: float64"
      ]
     },
     "execution_count": 65,
     "metadata": {},
     "output_type": "execute_result"
    }
   ],
   "source": [
    "dividends.keys()\n",
    "dividends['JPM']"
   ]
  },
  {
   "cell_type": "code",
   "execution_count": 77,
   "metadata": {},
   "outputs": [],
   "source": [
    "def filter_for_year(df: pd.DataFrame) -> pd.Series:\n",
    "     return df.index.to_series().dt.tz_convert(None).between(datetime(year=2023, month=1, day=1), \n",
    "                                        datetime(year=2024, month=1, day=1))\n"
   ]
  },
  {
   "cell_type": "code",
   "execution_count": 78,
   "metadata": {},
   "outputs": [],
   "source": [
    "dividends_2023 = { stock_name: stock_data[filter_for_year(stock_data)]  for stock_name, stock_data in dividends.items()}\n"
   ]
  },
  {
   "cell_type": "code",
   "execution_count": 83,
   "metadata": {},
   "outputs": [
    {
     "data": {
      "text/plain": [
       "{'2222.SR': 0.9107640000000001,\n",
       " 'BRK-B': 0.0,\n",
       " 'AAPL': 0.95,\n",
       " 'MSFT': 2.79,\n",
       " 'GOOG': 0.0,\n",
       " 'JPM': 4.05}"
      ]
     },
     "execution_count": 83,
     "metadata": {},
     "output_type": "execute_result"
    }
   ],
   "source": [
    "dividends_2023_sum = {stock_name: dividend.sum() \n",
    "                      for stock_name, dividend in dividends_2023.items()}\n",
    "dividends_2023_sum"
   ]
  },
  {
   "cell_type": "code",
   "execution_count": 87,
   "metadata": {},
   "outputs": [],
   "source": [
    "last_adj_closed = {stock: stock_data[stock].iloc[-1] for stock in stocks}"
   ]
  },
  {
   "cell_type": "code",
   "execution_count": 91,
   "metadata": {},
   "outputs": [],
   "source": [
    "ratio = {stock: round(100*dividends_2023_sum[stock]/last_adj_closed[stock], 1) for stock in stocks}"
   ]
  },
  {
   "cell_type": "code",
   "execution_count": 92,
   "metadata": {},
   "outputs": [
    {
     "data": {
      "text/plain": [
       "{'2222.SR': 2.8,\n",
       " 'BRK-B': 0.0,\n",
       " 'AAPL': 0.5,\n",
       " 'MSFT': 0.7,\n",
       " 'GOOG': 0.0,\n",
       " 'JPM': 2.4}"
      ]
     },
     "execution_count": 92,
     "metadata": {},
     "output_type": "execute_result"
    }
   ],
   "source": [
    "ratio"
   ]
  },
  {
   "cell_type": "markdown",
   "metadata": {},
   "source": [
    "### Question 6. [Exploratory] Investigate new metrics\n",
    "\n",
    "**Free text answer**\n",
    "\n",
    "Download and explore a few additional metrics or time series that might be valuable for your project and write down why (briefly)."
   ]
  },
  {
   "cell_type": "code",
   "execution_count": null,
   "metadata": {},
   "outputs": [],
   "source": []
  }
 ],
 "metadata": {
  "kernelspec": {
   "display_name": "stock-markets-analytics-zoomcamp-IIo2NssN",
   "language": "python",
   "name": "python3"
  },
  "language_info": {
   "codemirror_mode": {
    "name": "ipython",
    "version": 3
   },
   "file_extension": ".py",
   "mimetype": "text/x-python",
   "name": "python",
   "nbconvert_exporter": "python",
   "pygments_lexer": "ipython3",
   "version": "3.10.13"
  }
 },
 "nbformat": 4,
 "nbformat_minor": 2
}
